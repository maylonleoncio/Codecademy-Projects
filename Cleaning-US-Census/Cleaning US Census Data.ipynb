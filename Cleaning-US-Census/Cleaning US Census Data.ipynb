{
 "cells": [
  {
   "cell_type": "markdown",
   "metadata": {},
   "source": [
    "# Cleaning US Census Data"
   ]
  },
  {
   "cell_type": "markdown",
   "metadata": {},
   "source": [
    "You just got hired as a Data Analyst at the Census Bureau, which collects census data and creates interesting visualizations and insights from it.\n",
    "\n",
    "The person who had your job before you left you all the data they had for the most recent census. It is in multiple `csv` files. They didn't use pandas, they would just look through these `csv` files manually whenever they wanted to find something. Sometimes they would copy and paste certain numbers into Excel to make charts.\n",
    "\n",
    "The thought of it makes you shiver. This is not scalable or repeatable.\n",
    "\n",
    "Your boss wants you to make some scatterplots and histograms by the end of the day. Can you get this data into `pandas` and into reasonable shape so that you can make these histograms?"
   ]
  },
  {
   "cell_type": "markdown",
   "metadata": {},
   "source": [
    "## Inspect the Data!"
   ]
  },
  {
   "cell_type": "markdown",
   "metadata": {},
   "source": [
    "1. The first visualization your boss wants you to make is a scatterplot that shows average income in a state vs proportion of women in that state.\n",
    "\n",
    "   Open some of the census `csv` files that came with the kit you downloaded. How are they named? What kind of information do they hold? Will they help us make this graph?"
   ]
  },
  {
   "cell_type": "code",
   "execution_count": 1,
   "metadata": {},
   "outputs": [],
   "source": [
    "# named \"states(0-9).csv\""
   ]
  },
  {
   "cell_type": "markdown",
   "metadata": {},
   "source": [
    "2. It will be easier to inspect this data once we have it in a DataFrame. You can't even call `.head()` on these `csv`s! How are you supposed to read them?\n",
    "\n",
    "   Using `glob`, loop through the census files available and load them into DataFrames. Then, concatenate all of those DataFrames together into one DataFrame, called something like `us_census`."
   ]
  },
  {
   "cell_type": "code",
   "execution_count": 2,
   "metadata": {},
   "outputs": [
    {
     "data": {
      "text/plain": [
       "(60, 11)"
      ]
     },
     "execution_count": 2,
     "metadata": {},
     "output_type": "execute_result"
    }
   ],
   "source": [
    "import pandas as pd\n",
    "import numpy as np\n",
    "import matplotlib.pyplot as plt\n",
    "import glob\n",
    "\n",
    "files = glob.glob('states*.csv')\n",
    "\n",
    "states_list = []\n",
    "for filename in files:\n",
    "    data = pd.read_csv(filename)\n",
    "    states_list.append(data)\n",
    "\n",
    "\n",
    "us_census = pd.concat(states_list)\n",
    "us_census.shape"
   ]
  },
  {
   "cell_type": "markdown",
   "metadata": {},
   "source": [
    "3. Look at the `.columns` and the `.dtypes` of the `us_census` DataFrame. Are those datatypes going to hinder you as you try to make histograms?"
   ]
  },
  {
   "cell_type": "code",
   "execution_count": 3,
   "metadata": {},
   "outputs": [
    {
     "name": "stdout",
     "output_type": "stream",
     "text": [
      "['Unnamed: 0', 'State', 'TotalPop', 'Hispanic', 'White', 'Black', 'Native', 'Asian', 'Pacific', 'Income', 'GenderPop']\n",
      "\n",
      "\n",
      "Unnamed: 0     int64\n",
      "State         object\n",
      "TotalPop       int64\n",
      "Hispanic      object\n",
      "White         object\n",
      "Black         object\n",
      "Native        object\n",
      "Asian         object\n",
      "Pacific       object\n",
      "Income        object\n",
      "GenderPop     object\n",
      "dtype: object\n"
     ]
    }
   ],
   "source": [
    "print(us_census.columns.tolist())\n",
    "print('\\n')\n",
    "print(us_census.dtypes)"
   ]
  },
  {
   "cell_type": "markdown",
   "metadata": {},
   "source": [
    "4. Look at the `head()` of the DataFrame so that you can understand why some of these `dtypes` are objects instead of integers or floats.\n",
    "\n",
    "   Start to make a plan for how to convert these columns into the right types for manipulation."
   ]
  },
  {
   "cell_type": "code",
   "execution_count": 4,
   "metadata": {},
   "outputs": [
    {
     "data": {
      "text/html": [
       "<div>\n",
       "<style scoped>\n",
       "    .dataframe tbody tr th:only-of-type {\n",
       "        vertical-align: middle;\n",
       "    }\n",
       "\n",
       "    .dataframe tbody tr th {\n",
       "        vertical-align: top;\n",
       "    }\n",
       "\n",
       "    .dataframe thead th {\n",
       "        text-align: right;\n",
       "    }\n",
       "</style>\n",
       "<table border=\"1\" class=\"dataframe\">\n",
       "  <thead>\n",
       "    <tr style=\"text-align: right;\">\n",
       "      <th></th>\n",
       "      <th>Unnamed: 0</th>\n",
       "      <th>State</th>\n",
       "      <th>TotalPop</th>\n",
       "      <th>Hispanic</th>\n",
       "      <th>White</th>\n",
       "      <th>Black</th>\n",
       "      <th>Native</th>\n",
       "      <th>Asian</th>\n",
       "      <th>Pacific</th>\n",
       "      <th>Income</th>\n",
       "      <th>GenderPop</th>\n",
       "    </tr>\n",
       "  </thead>\n",
       "  <tbody>\n",
       "    <tr>\n",
       "      <th>0</th>\n",
       "      <td>0</td>\n",
       "      <td>Alabama</td>\n",
       "      <td>4830620</td>\n",
       "      <td>3.75%</td>\n",
       "      <td>61.88%</td>\n",
       "      <td>31.25%</td>\n",
       "      <td>0.45%</td>\n",
       "      <td>1.05%</td>\n",
       "      <td>0.03%</td>\n",
       "      <td>$43,296.36</td>\n",
       "      <td>2341093M_2489527F</td>\n",
       "    </tr>\n",
       "    <tr>\n",
       "      <th>1</th>\n",
       "      <td>1</td>\n",
       "      <td>Alaska</td>\n",
       "      <td>733375</td>\n",
       "      <td>5.91%</td>\n",
       "      <td>60.91%</td>\n",
       "      <td>2.85%</td>\n",
       "      <td>16.39%</td>\n",
       "      <td>5.45%</td>\n",
       "      <td>1.06%</td>\n",
       "      <td>$70,354.74</td>\n",
       "      <td>384160M_349215F</td>\n",
       "    </tr>\n",
       "    <tr>\n",
       "      <th>2</th>\n",
       "      <td>2</td>\n",
       "      <td>Arizona</td>\n",
       "      <td>6641928</td>\n",
       "      <td>29.57%</td>\n",
       "      <td>57.12%</td>\n",
       "      <td>3.85%</td>\n",
       "      <td>4.36%</td>\n",
       "      <td>2.88%</td>\n",
       "      <td>0.17%</td>\n",
       "      <td>$54,207.82</td>\n",
       "      <td>3299088M_3342840F</td>\n",
       "    </tr>\n",
       "    <tr>\n",
       "      <th>3</th>\n",
       "      <td>3</td>\n",
       "      <td>Arkansas</td>\n",
       "      <td>2958208</td>\n",
       "      <td>6.22%</td>\n",
       "      <td>71.14%</td>\n",
       "      <td>18.97%</td>\n",
       "      <td>0.52%</td>\n",
       "      <td>1.14%</td>\n",
       "      <td>0.15%</td>\n",
       "      <td>$41,935.63</td>\n",
       "      <td>1451913M_1506295F</td>\n",
       "    </tr>\n",
       "    <tr>\n",
       "      <th>4</th>\n",
       "      <td>4</td>\n",
       "      <td>California</td>\n",
       "      <td>38421464</td>\n",
       "      <td>37.29%</td>\n",
       "      <td>40.22%</td>\n",
       "      <td>5.68%</td>\n",
       "      <td>0.41%</td>\n",
       "      <td>13.05%</td>\n",
       "      <td>0.35%</td>\n",
       "      <td>$67,264.78</td>\n",
       "      <td>19087135M_19334329F</td>\n",
       "    </tr>\n",
       "  </tbody>\n",
       "</table>\n",
       "</div>"
      ],
      "text/plain": [
       "   Unnamed: 0       State  TotalPop Hispanic   White   Black  Native   Asian  \\\n",
       "0           0     Alabama   4830620    3.75%  61.88%  31.25%   0.45%   1.05%   \n",
       "1           1      Alaska    733375    5.91%  60.91%   2.85%  16.39%   5.45%   \n",
       "2           2     Arizona   6641928   29.57%  57.12%   3.85%   4.36%   2.88%   \n",
       "3           3    Arkansas   2958208    6.22%  71.14%  18.97%   0.52%   1.14%   \n",
       "4           4  California  38421464   37.29%  40.22%   5.68%   0.41%  13.05%   \n",
       "\n",
       "  Pacific       Income            GenderPop  \n",
       "0   0.03%  $43,296.36     2341093M_2489527F  \n",
       "1   1.06%  $70,354.74       384160M_349215F  \n",
       "2   0.17%  $54,207.82     3299088M_3342840F  \n",
       "3   0.15%  $41,935.63     1451913M_1506295F  \n",
       "4   0.35%  $67,264.78   19087135M_19334329F  "
      ]
     },
     "execution_count": 4,
     "metadata": {},
     "output_type": "execute_result"
    }
   ],
   "source": [
    "us_census.head()"
   ]
  },
  {
   "cell_type": "markdown",
   "metadata": {},
   "source": [
    "## Regex to the Rescue"
   ]
  },
  {
   "cell_type": "markdown",
   "metadata": {},
   "source": [
    "5. Use regex to turn the `Income` column into a format that is ready for conversion into a numerical type."
   ]
  },
  {
   "cell_type": "code",
   "execution_count": 9,
   "metadata": {},
   "outputs": [
    {
     "name": "stdout",
     "output_type": "stream",
     "text": [
      "0    43296.36\n",
      "1    70354.74\n",
      "2    54207.82\n",
      "3    41935.63\n",
      "4    67264.78\n",
      "Name: Income, dtype: float64\n",
      "float64\n"
     ]
    }
   ],
   "source": [
    "us_census['Income'] = us_census['Income'].replace('[\\$,]','', regex=True).astype(float)\n",
    "\n",
    "print(us_census['Income'][:5])\n",
    "print(us_census['Income'].dtype)"
   ]
  },
  {
   "cell_type": "markdown",
   "metadata": {},
   "source": [
    "6. Look at the `GenderPop` column. We are going to want to separate this into two columns, the `Men` column, and the `Women` column.\n",
    "\n",
    "   Split the column into those two new columns using `str.split` and separating out those results."
   ]
  },
  {
   "cell_type": "code",
   "execution_count": 13,
   "metadata": {},
   "outputs": [
    {
     "data": {
      "text/html": [
       "<div>\n",
       "<style scoped>\n",
       "    .dataframe tbody tr th:only-of-type {\n",
       "        vertical-align: middle;\n",
       "    }\n",
       "\n",
       "    .dataframe tbody tr th {\n",
       "        vertical-align: top;\n",
       "    }\n",
       "\n",
       "    .dataframe thead th {\n",
       "        text-align: right;\n",
       "    }\n",
       "</style>\n",
       "<table border=\"1\" class=\"dataframe\">\n",
       "  <thead>\n",
       "    <tr style=\"text-align: right;\">\n",
       "      <th></th>\n",
       "      <th>Unnamed: 0</th>\n",
       "      <th>State</th>\n",
       "      <th>TotalPop</th>\n",
       "      <th>Hispanic</th>\n",
       "      <th>White</th>\n",
       "      <th>Black</th>\n",
       "      <th>Native</th>\n",
       "      <th>Asian</th>\n",
       "      <th>Pacific</th>\n",
       "      <th>Income</th>\n",
       "      <th>GenderPop</th>\n",
       "      <th>Men</th>\n",
       "      <th>Women</th>\n",
       "    </tr>\n",
       "  </thead>\n",
       "  <tbody>\n",
       "    <tr>\n",
       "      <th>0</th>\n",
       "      <td>0</td>\n",
       "      <td>Alabama</td>\n",
       "      <td>4830620</td>\n",
       "      <td>3.75%</td>\n",
       "      <td>61.88%</td>\n",
       "      <td>31.25%</td>\n",
       "      <td>0.45%</td>\n",
       "      <td>1.05%</td>\n",
       "      <td>0.03%</td>\n",
       "      <td>43296.36</td>\n",
       "      <td>2341093M_2489527F</td>\n",
       "      <td>2341093M</td>\n",
       "      <td>2489527F</td>\n",
       "    </tr>\n",
       "    <tr>\n",
       "      <th>1</th>\n",
       "      <td>1</td>\n",
       "      <td>Alaska</td>\n",
       "      <td>733375</td>\n",
       "      <td>5.91%</td>\n",
       "      <td>60.91%</td>\n",
       "      <td>2.85%</td>\n",
       "      <td>16.39%</td>\n",
       "      <td>5.45%</td>\n",
       "      <td>1.06%</td>\n",
       "      <td>70354.74</td>\n",
       "      <td>384160M_349215F</td>\n",
       "      <td>384160M</td>\n",
       "      <td>349215F</td>\n",
       "    </tr>\n",
       "    <tr>\n",
       "      <th>2</th>\n",
       "      <td>2</td>\n",
       "      <td>Arizona</td>\n",
       "      <td>6641928</td>\n",
       "      <td>29.57%</td>\n",
       "      <td>57.12%</td>\n",
       "      <td>3.85%</td>\n",
       "      <td>4.36%</td>\n",
       "      <td>2.88%</td>\n",
       "      <td>0.17%</td>\n",
       "      <td>54207.82</td>\n",
       "      <td>3299088M_3342840F</td>\n",
       "      <td>3299088M</td>\n",
       "      <td>3342840F</td>\n",
       "    </tr>\n",
       "    <tr>\n",
       "      <th>3</th>\n",
       "      <td>3</td>\n",
       "      <td>Arkansas</td>\n",
       "      <td>2958208</td>\n",
       "      <td>6.22%</td>\n",
       "      <td>71.14%</td>\n",
       "      <td>18.97%</td>\n",
       "      <td>0.52%</td>\n",
       "      <td>1.14%</td>\n",
       "      <td>0.15%</td>\n",
       "      <td>41935.63</td>\n",
       "      <td>1451913M_1506295F</td>\n",
       "      <td>1451913M</td>\n",
       "      <td>1506295F</td>\n",
       "    </tr>\n",
       "    <tr>\n",
       "      <th>4</th>\n",
       "      <td>4</td>\n",
       "      <td>California</td>\n",
       "      <td>38421464</td>\n",
       "      <td>37.29%</td>\n",
       "      <td>40.22%</td>\n",
       "      <td>5.68%</td>\n",
       "      <td>0.41%</td>\n",
       "      <td>13.05%</td>\n",
       "      <td>0.35%</td>\n",
       "      <td>67264.78</td>\n",
       "      <td>19087135M_19334329F</td>\n",
       "      <td>19087135M</td>\n",
       "      <td>19334329F</td>\n",
       "    </tr>\n",
       "  </tbody>\n",
       "</table>\n",
       "</div>"
      ],
      "text/plain": [
       "   Unnamed: 0       State  TotalPop Hispanic   White   Black  Native   Asian  \\\n",
       "0           0     Alabama   4830620    3.75%  61.88%  31.25%   0.45%   1.05%   \n",
       "1           1      Alaska    733375    5.91%  60.91%   2.85%  16.39%   5.45%   \n",
       "2           2     Arizona   6641928   29.57%  57.12%   3.85%   4.36%   2.88%   \n",
       "3           3    Arkansas   2958208    6.22%  71.14%  18.97%   0.52%   1.14%   \n",
       "4           4  California  38421464   37.29%  40.22%   5.68%   0.41%  13.05%   \n",
       "\n",
       "  Pacific    Income            GenderPop        Men      Women  \n",
       "0   0.03%  43296.36    2341093M_2489527F   2341093M   2489527F  \n",
       "1   1.06%  70354.74      384160M_349215F    384160M    349215F  \n",
       "2   0.17%  54207.82    3299088M_3342840F   3299088M   3342840F  \n",
       "3   0.15%  41935.63    1451913M_1506295F   1451913M   1506295F  \n",
       "4   0.35%  67264.78  19087135M_19334329F  19087135M  19334329F  "
      ]
     },
     "execution_count": 13,
     "metadata": {},
     "output_type": "execute_result"
    }
   ],
   "source": [
    "Gender_split = us_census['GenderPop'].str.split('_')\n",
    "\n",
    "us_census['Men'] = Gender_split.str.get(0)\n",
    "us_census['Women'] = Gender_split.str.get(1)\n",
    "\n",
    "us_census.head()"
   ]
  },
  {
   "cell_type": "markdown",
   "metadata": {},
   "source": [
    "7. Convert both of the columns into numerical datatypes.\n",
    "\n",
    "   There is still an `M` or an `F` character in each entry! We should remove those before we convert."
   ]
  },
  {
   "cell_type": "code",
   "execution_count": 34,
   "metadata": {},
   "outputs": [
    {
     "name": "stdout",
     "output_type": "stream",
     "text": [
      "Type variable Men:  int32\n",
      "Type variable Women:  int32\n"
     ]
    }
   ],
   "source": [
    "us_census['Men'] = us_census['Men'].replace('[M]','', regex=True).astype(int)\n",
    "us_census['Women'] = us_census['Women'].replace('[F]','', regex=True).replace('', 0).astype(int)\n",
    "\n",
    "print(f'Type variable Men: ', us_census['Men'].dtype)\n",
    "print(f'Type variable Women: ', us_census['Women'].dtype)"
   ]
  },
  {
   "cell_type": "markdown",
   "metadata": {},
   "source": [
    "8. Now you should have the columns you need to make the graph and make sure your boss does not slam a ruler angrily on your desk because you've wasted your whole day cleaning your data with no results to show!\n",
    "\n",
    "   Use matplotlib to make a scatterplot!\n",
    "   \n",
    "   ```py\n",
    "   plt.scatter(the_women_column, the_income_column)\n",
    "   ```\n",
    "   \n",
    "   Remember to call `plt.show()` to see the graph!"
   ]
  },
  {
   "cell_type": "code",
   "execution_count": null,
   "metadata": {},
   "outputs": [],
   "source": []
  },
  {
   "cell_type": "markdown",
   "metadata": {},
   "source": [
    "9. You want to double check your work. You know from experience that these monstrous csv files probably have `nan` values in them! Print out your column with the number of women per state to see.\n",
    "\n",
    "   We can fill in those `nan`s by using pandas' `.fillna()` function.\n",
    "   \n",
    "   You have the `TotalPop` per state, and you have the `Men` per state. As an estimate for the `nan` values in the `Women` column, you could use the `TotalPop` of that state minus the `Men` for that state.\n",
    "   \n",
    "   Print out the `Women` column after filling the `nan` values to see if it worked!"
   ]
  },
  {
   "cell_type": "code",
   "execution_count": null,
   "metadata": {},
   "outputs": [],
   "source": []
  },
  {
   "cell_type": "markdown",
   "metadata": {},
   "source": [
    "10. We forgot to check for duplicates! Use `.duplicated()` on your `census` DataFrame to see if we have duplicate rows in there."
   ]
  },
  {
   "cell_type": "code",
   "execution_count": null,
   "metadata": {},
   "outputs": [],
   "source": []
  },
  {
   "cell_type": "markdown",
   "metadata": {},
   "source": [
    "11. Drop those duplicates using the `.drop_duplicates()` function."
   ]
  },
  {
   "cell_type": "code",
   "execution_count": null,
   "metadata": {},
   "outputs": [],
   "source": []
  },
  {
   "cell_type": "markdown",
   "metadata": {},
   "source": [
    "12. Make the scatterplot again. Now, it should be perfect! Your job is secure, for now."
   ]
  },
  {
   "cell_type": "code",
   "execution_count": null,
   "metadata": {},
   "outputs": [],
   "source": []
  },
  {
   "cell_type": "markdown",
   "metadata": {},
   "source": [
    "## Histogram of Races"
   ]
  },
  {
   "cell_type": "markdown",
   "metadata": {},
   "source": [
    "13. Now your boss wants you to make a bunch of histograms out of the race data that you have. Look at the `.columns` again to see what the race categories are."
   ]
  },
  {
   "cell_type": "code",
   "execution_count": null,
   "metadata": {},
   "outputs": [],
   "source": []
  },
  {
   "cell_type": "markdown",
   "metadata": {},
   "source": [
    "14. Try to make a histogram for each one!\n",
    "\n",
    "    You will have to get the columns into the numerical format, and those percentage signs will have to go.\n",
    "    \n",
    "    Don't forget to fill the `nan` values with something that makes sense! You probably dropped the duplicate rows when making your last graph, but it couldn't hurt to check for duplicates again."
   ]
  },
  {
   "cell_type": "code",
   "execution_count": null,
   "metadata": {},
   "outputs": [],
   "source": []
  },
  {
   "cell_type": "markdown",
   "metadata": {},
   "source": [
    "## Get Creative"
   ]
  },
  {
   "cell_type": "markdown",
   "metadata": {},
   "source": [
    "15. Phew. You've definitely impressed your boss on your first day of work.\n",
    "\n",
    "    But is there a way you really convey the power of pandas and Python over the drudgery of `csv` and Excel?\n",
    "    \n",
    "    Try to make some more interesting graphs to show your boss, and the world! You may need to clean the data even more to do it, or the cleaning you have already done may give you the ease of manipulation you've been searching for."
   ]
  },
  {
   "cell_type": "code",
   "execution_count": null,
   "metadata": {},
   "outputs": [],
   "source": []
  }
 ],
 "metadata": {
  "kernelspec": {
   "display_name": "Python 3",
   "language": "python",
   "name": "python3"
  },
  "language_info": {
   "codemirror_mode": {
    "name": "ipython",
    "version": 3
   },
   "file_extension": ".py",
   "mimetype": "text/x-python",
   "name": "python",
   "nbconvert_exporter": "python",
   "pygments_lexer": "ipython3",
   "version": "3.11.4"
  }
 },
 "nbformat": 4,
 "nbformat_minor": 2
}
