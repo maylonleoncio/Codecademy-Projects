{
  "cells": [
    {
      "cell_type": "markdown",
      "id": "79f9fe31",
      "metadata": {
        "id": "79f9fe31"
      },
      "source": [
        "# Python Lists: Medical Insurance Estimation Project"
      ]
    },
    {
      "cell_type": "markdown",
      "id": "5bfa2012",
      "metadata": {
        "id": "5bfa2012"
      },
      "source": [
        "In this project, you will examine how factors such as age, sex, BMI, number of children, and smoking status contribute to medical insurance costs.\n",
        "\n",
        "You will apply your new knowledge of Python Lists to store insurance cost data in a list as well as compare **estimated** insurance costs to **actual** insurance costs.\n",
        "\n",
        "Let's get started!"
      ]
    },
    {
      "cell_type": "markdown",
      "id": "454063d9",
      "metadata": {
        "id": "454063d9"
      },
      "source": [
        "## Creating a List"
      ]
    },
    {
      "cell_type": "markdown",
      "id": "5eb6fdde",
      "metadata": {
        "id": "5eb6fdde"
      },
      "source": [
        "1. First, take a look at the code in the code block below.\n",
        "\n",
        "   The function `estimate_insurance_cost()` estimates the medical insurance cost for an individual, based on five variables:\n",
        "   - `age`: age of the individual in years\n",
        "   - `sex`: 0 for female, 1 for male\n",
        "   - `bmi`: individual's body mass index\n",
        "   - `num_of_children`: number of children the individual has\n",
        "   - `smoker`: 0 for a non-smoker, 1 for a smoker\n",
        "   \n",
        "   These variables are used in the following formula to estimate an individual's insurance cost (in USD):\n",
        "   \n",
        "   $$\n",
        "   insurance\\_cost = 250*age - 128*sex + 370*bmi + 425*num\\_of\\_children + 24000*smoker - 12500\n",
        "   $$\n",
        "   \n",
        "   Observe below the code the estimated insurance costs for three individuals - Maria, Rohan, and Valentina."
      ]
    },
    {
      "cell_type": "code",
      "execution_count": 2,
      "id": "a6e98fae",
      "metadata": {
        "colab": {
          "base_uri": "https://localhost:8080/"
        },
        "id": "a6e98fae",
        "outputId": "7e9c6714-e875-4269-ae3d-7862a6685c61"
      },
      "outputs": [
        {
          "output_type": "stream",
          "name": "stdout",
          "text": [
            "Maria's Estimated Insurance Cost: 4222.0 dollars.\n",
            "Rohan's Estimated Insurance Cost: 5442.0 dollars.\n",
            "Valentina's Estimated Insurance Cost: 36368.0 dollars.\n"
          ]
        }
      ],
      "source": [
        "# Function to estimate insurance cost:\n",
        "def estimate_insurance_cost(name, age, sex, bmi, num_of_children, smoker):\n",
        "    estimated_cost = 250*age - 128*sex + 370*bmi + 425*num_of_children + 24000*smoker - 12500\n",
        "    print(name + \"'s Estimated Insurance Cost: \" + str(estimated_cost) + \" dollars.\")\n",
        "    return estimated_cost\n",
        "\n",
        "# Estimate Maria's insurance cost\n",
        "maria_insurance_cost = estimate_insurance_cost(name = \"Maria\", age = 31, sex = 0, bmi = 23.1, num_of_children = 1, smoker = 0)\n",
        "\n",
        "# Estimate Rohan's insurance cost\n",
        "rohan_insurance_cost = estimate_insurance_cost(name = \"Rohan\", age = 25, sex = 1, bmi = 28.5, num_of_children = 3, smoker = 0)\n",
        "\n",
        "# Estimate Valentina's insurance cost\n",
        "valentina_insurance_cost = estimate_insurance_cost(name = \"Valentina\", age = 53, sex = 0, bmi = 31.4, num_of_children = 0, smoker = 1)"
      ]
    },
    {
      "cell_type": "markdown",
      "id": "87f5d6d5",
      "metadata": {
        "id": "87f5d6d5"
      },
      "source": [
        "2. We want to compare the estimated insurance costs (as calculated by our function) to the actual amounts that Maria, Rohan, and Valentina paid.\n",
        "\n",
        "   Create a list called `names` and fill it with the names of individuals you are estimating insurance costs for:\n",
        "   - `\"Maria\"`\n",
        "   - `\"Rohan\"`\n",
        "   - `\"Valentina\"`"
      ]
    },
    {
      "cell_type": "code",
      "execution_count": 3,
      "id": "6e4218d8",
      "metadata": {
        "id": "6e4218d8"
      },
      "outputs": [],
      "source": [
        "names = ['Maria', 'Rohan', 'Valentina']"
      ]
    },
    {
      "cell_type": "markdown",
      "id": "7aad0105",
      "metadata": {
        "id": "7aad0105"
      },
      "source": [
        "3. Next, create a list called `insurance_costs` and fill it with the actual amounts that Maria, Rohan, and Valentina paid for insurance:\n",
        "   - `4150.0`\n",
        "   - `5320.0`\n",
        "   - `35210.0`"
      ]
    },
    {
      "cell_type": "code",
      "execution_count": 4,
      "id": "93fc21ce",
      "metadata": {
        "id": "93fc21ce"
      },
      "outputs": [],
      "source": [
        "insurance_costs = [4150.0, 5320.0, 35210.0]"
      ]
    },
    {
      "cell_type": "markdown",
      "id": "752b283b",
      "metadata": {
        "id": "752b283b"
      },
      "source": [
        "## Combining Lists"
      ]
    },
    {
      "cell_type": "markdown",
      "id": "bbc0c97c",
      "metadata": {
        "id": "bbc0c97c"
      },
      "source": [
        "4. Currently the `names` and `insurance_costs` lists are separate, but we want each name to be paired with an insurance cost.\n",
        "\n",
        "   Create a new variable called `insurance_data` that combines `names` and `insurance_costs` using the `zip()` function.\n",
        "   \n",
        "   Print this new variable."
      ]
    },
    {
      "cell_type": "code",
      "execution_count": 5,
      "id": "42f299ef",
      "metadata": {
        "colab": {
          "base_uri": "https://localhost:8080/"
        },
        "id": "42f299ef",
        "outputId": "5878e2ca-3706-46e3-c4e8-8bbc913842b3"
      },
      "outputs": [
        {
          "output_type": "stream",
          "name": "stdout",
          "text": [
            "<zip object at 0x7f5476369700>\n"
          ]
        }
      ],
      "source": [
        "insurance_data = zip(names, insurance_costs)\n",
        "print(insurance_data)"
      ]
    },
    {
      "cell_type": "markdown",
      "id": "f1492a2d",
      "metadata": {
        "id": "f1492a2d"
      },
      "source": [
        "5. The output should look something like:\n",
        "\n",
        "   ```\n",
        "   <zip object at 0x7f1631e86b48>\n",
        "   ```\n",
        "   \n",
        "   This output does not mean much to us. To change it to a format we can actually understand, we must convert the `zip` object to a list by doing the following:\n",
        "   \n",
        "   ```\n",
        "   list(zip(____, ____))\n",
        "   ```\n",
        "   \n",
        "   Convert the `insurance_data` object to a list using this method. Run the code to see the result - you should now see a list of names and insurance costs."
      ]
    },
    {
      "cell_type": "code",
      "execution_count": 6,
      "id": "ef0311a1",
      "metadata": {
        "colab": {
          "base_uri": "https://localhost:8080/"
        },
        "id": "ef0311a1",
        "outputId": "990b14cb-c8f1-496a-df44-a9e36702b56e"
      },
      "outputs": [
        {
          "output_type": "stream",
          "name": "stdout",
          "text": [
            "[('Maria', 4150.0), ('Rohan', 5320.0), ('Valentina', 35210.0)]\n"
          ]
        }
      ],
      "source": [
        "insurance_data = list(insurance_data)\n",
        "print(insurance_data)"
      ]
    },
    {
      "cell_type": "markdown",
      "id": "ff1c4435",
      "metadata": {
        "id": "ff1c4435"
      },
      "source": [
        "## Appending to a List"
      ]
    },
    {
      "cell_type": "markdown",
      "id": "0ea69efb",
      "metadata": {
        "id": "0ea69efb"
      },
      "source": [
        "6. Next, create an empty list called `estimated_insurance_data`.\n",
        "\n",
        "   This is the list we'll use to store the estimated insurance costs for our three individuals."
      ]
    },
    {
      "cell_type": "code",
      "execution_count": 7,
      "id": "02025200",
      "metadata": {
        "id": "02025200"
      },
      "outputs": [],
      "source": [
        "estimated_insurance_data = []"
      ]
    },
    {
      "cell_type": "markdown",
      "id": "7eb29c6b",
      "metadata": {
        "id": "7eb29c6b"
      },
      "source": [
        "7. We want to add our estimated insurance data for Maria, Rohan, and Valentina to the `estimated_insurance_data` list.\n",
        "\n",
        "   Use `.append()` to add `(\"Maria\", maria_insurance_cost)` to `estimated_insurance_data`. Do the same for Rohan and Valentina."
      ]
    },
    {
      "cell_type": "code",
      "execution_count": 8,
      "id": "f0177c39",
      "metadata": {
        "id": "f0177c39"
      },
      "outputs": [],
      "source": [
        "estimated_insurance_data.append(('Maria', maria_insurance_cost))\n",
        "estimated_insurance_data.append(('Rohan', rohan_insurance_cost))\n",
        "estimated_insurance_data.append(('Valentina', valentina_insurance_cost))"
      ]
    },
    {
      "cell_type": "markdown",
      "id": "99fb3c71",
      "metadata": {
        "id": "99fb3c71"
      },
      "source": [
        "8. Print `estimated_insurance_data`.\n",
        "\n",
        "   Make sure the output is what you expected."
      ]
    },
    {
      "cell_type": "code",
      "execution_count": 9,
      "id": "d7066b0c",
      "metadata": {
        "colab": {
          "base_uri": "https://localhost:8080/"
        },
        "id": "d7066b0c",
        "outputId": "6b366476-12a5-4cba-8b7e-eca2cca56372"
      },
      "outputs": [
        {
          "output_type": "stream",
          "name": "stdout",
          "text": [
            "[('Maria', 4222.0), ('Rohan', 5442.0), ('Valentina', 36368.0)]\n"
          ]
        }
      ],
      "source": [
        "print(estimated_insurance_data)"
      ]
    },
    {
      "cell_type": "markdown",
      "id": "21da68be",
      "metadata": {
        "id": "21da68be"
      },
      "source": [
        "## Inspecting the data"
      ]
    },
    {
      "cell_type": "markdown",
      "id": "c41d4c11",
      "metadata": {
        "id": "c41d4c11"
      },
      "source": [
        "9. In the output, you should see two lists. The first one represents the **actual** insurance cost data and the second one represents the **estimated** insurance cost data.\n",
        "\n",
        "   However, it's difficult to know this just by looking at the output. As a data scientist, you want to make sure that your data is clean and easy to understand.\n",
        "   \n",
        "   Add to the print statement for `insurance_data` so that it's clear what the list contains. The output of the print statement should look like:\n",
        "   \n",
        "   ```\n",
        "   Here is the actual insurance cost data: [...list output...]\n",
        "   ```"
      ]
    },
    {
      "cell_type": "code",
      "execution_count": 10,
      "id": "0da6c2e5",
      "metadata": {
        "colab": {
          "base_uri": "https://localhost:8080/"
        },
        "id": "0da6c2e5",
        "outputId": "5c046098-ca06-4a89-c7c3-1adddd4df143"
      },
      "outputs": [
        {
          "output_type": "stream",
          "name": "stdout",
          "text": [
            "Here is the actual insurance cost data: [('Maria', 4150.0), ('Rohan', 5320.0), ('Valentina', 35210.0)]\n"
          ]
        }
      ],
      "source": [
        "print(f'Here is the actual insurance cost data: {insurance_data}')"
      ]
    },
    {
      "cell_type": "markdown",
      "id": "48c95b49",
      "metadata": {
        "id": "48c95b49"
      },
      "source": [
        "10. Do the same for the print statement that prints `estimated_insurance_data`. The output should look like:\n",
        "\n",
        "   ```\n",
        "   Here is the estimated insurance cost data: [...list output...]\n",
        "   ```"
      ]
    },
    {
      "cell_type": "code",
      "execution_count": 11,
      "id": "dc701f7b",
      "metadata": {
        "colab": {
          "base_uri": "https://localhost:8080/"
        },
        "id": "dc701f7b",
        "outputId": "b49cd62c-8360-4a7e-b787-e1d11581a666"
      },
      "outputs": [
        {
          "output_type": "stream",
          "name": "stdout",
          "text": [
            "Here is the estimated insurance cost data: [('Maria', 4222.0), ('Rohan', 5442.0), ('Valentina', 36368.0)]\n"
          ]
        }
      ],
      "source": [
        "print(f'Here is the estimated insurance cost data: {estimated_insurance_data}')"
      ]
    },
    {
      "cell_type": "markdown",
      "id": "34e7aaa4",
      "metadata": {
        "id": "34e7aaa4"
      },
      "source": [
        "11. See the results from both tasks above.\n",
        "\n",
        "    It should be much more clear from the output what each of the two lists represents, helping you better understand the data you're working with.\n",
        "    \n",
        "    You may notice that there are differences between the actual insurance costs and estimated insurance costs. This means that our `estimate_insurance_cost()` function does not calculate insurance costs with 100% accuracy.\n",
        "    \n",
        "    Compare the estimated insurance data to the actual insurance data. Do the estimated insurance costs seem to be overestimated or underestimated?"
      ]
    },
    {
      "cell_type": "code",
      "execution_count": null,
      "id": "3bce2ea2",
      "metadata": {
        "colab": {
          "base_uri": "https://localhost:8080/"
        },
        "id": "3bce2ea2",
        "outputId": "c7f4c026-562c-4558-e3e6-b2a4aed2e4db"
      },
      "outputs": [
        {
          "output_type": "stream",
          "name": "stdout",
          "text": [
            "Overestimating\n"
          ]
        }
      ],
      "source": [
        "print('Overestimating')"
      ]
    },
    {
      "cell_type": "markdown",
      "id": "5341142c",
      "metadata": {
        "id": "5341142c"
      },
      "source": [
        "## Extra"
      ]
    },
    {
      "cell_type": "markdown",
      "id": "761c4808",
      "metadata": {
        "id": "761c4808"
      },
      "source": [
        "12. Congratulations! In this project, you used Python lists to store **estimated** insurance cost data and then compare that data to **actual** insurance cost data.\n",
        "\n",
        "    As you've seen, lists are data structures in Python that can contain multiple pieces of data in a single object. As a data scientist, you'll find yourself working with this data structure quite often. You now have a solid foundation to move forward in your data science journey!\n",
        "    \n",
        "    If you'd like additional practice on lists, here are some ways you might extend this project:\n",
        "    - Calculate the difference between the actual insurance cost data and the estimated insurance cost data for each individual, and store the results in a list called `insurance_cost_dif`.\n",
        "    - Estimate the insurance cost for a new individual, Akira, who is a 19-year-old male non-smoker with no children and a BMI of 27.1. Make sure to append his name to `names` and his actual insurance cost, `2930.0`, to `insurance_costs`.\n",
        "    \n",
        "    Happy coding!"
      ]
    },
    {
      "cell_type": "code",
      "source": [
        "# Difference between the actual insurance cost data and the estimated insurance cost data\n",
        "insurance_cost_difference = {i: dict(insurance_data)[i] - dict(estimated_insurance_data)[i] for i in dict(insurance_data)}\n",
        "\n",
        "difference = list(insurance_cost_difference.items())\n",
        "\n",
        "print(difference)"
      ],
      "metadata": {
        "id": "lFDKZRLWi0tp",
        "outputId": "9fd2958e-ef2f-47a9-9c47-1d3a446bcbe1",
        "colab": {
          "base_uri": "https://localhost:8080/"
        }
      },
      "id": "lFDKZRLWi0tp",
      "execution_count": 13,
      "outputs": [
        {
          "output_type": "stream",
          "name": "stdout",
          "text": [
            "[('Maria', -72.0), ('Rohan', -122.0), ('Valentina', -1158.0)]\n"
          ]
        }
      ]
    },
    {
      "cell_type": "code",
      "source": [
        "# Estimate Akira's insurance cost\n",
        "Akira_insurance_cost = estimate_insurance_cost(name =\n",
        "\"Akira\", age = 19, sex = 1, bmi = 27.1, num_of_children = 0, smoker = 0)\n",
        "\n",
        "names.append('Akira')\n",
        "insurance_costs.append(2930.0)\n",
        "insurance_data = zip(names, insurance_costs)\n",
        "insurance_data = list(insurance_data)\n",
        "print(insurance_data)\n",
        "\n",
        "estimated_insurance_data.append(['Akira', Akira_insurance_cost])\n",
        "print(estimated_insurance_data)\n",
        "\n",
        "# Difference between the actual insurance cost data and the estimated insurance cost data\n",
        "insurance_cost_difference = {i: dict(insurance_data)[i] - dict(estimated_insurance_data)[i] for i in dict(insurance_data)}\n",
        "\n",
        "difference = list(insurance_cost_difference.items())\n",
        "\n",
        "print(difference)"
      ],
      "metadata": {
        "id": "UhkgWBiOqf4f",
        "outputId": "a36f4d88-f88a-498d-b42c-890e71a26281",
        "colab": {
          "base_uri": "https://localhost:8080/"
        }
      },
      "id": "UhkgWBiOqf4f",
      "execution_count": 15,
      "outputs": [
        {
          "output_type": "stream",
          "name": "stdout",
          "text": [
            "Akira's Estimated Insurance Cost: 2149.0 dollars.\n",
            "[('Maria', 4150.0), ('Rohan', 5320.0), ('Valentina', 35210.0), ('Akira', 2930.0), ('Akira', 2930.0)]\n",
            "[('Maria', 4222.0), ('Rohan', 5442.0), ('Valentina', 36368.0), ['Akira', 2149.0], ['Akira', 2149.0]]\n",
            "[('Maria', -72.0), ('Rohan', -122.0), ('Valentina', -1158.0), ('Akira', 781.0)]\n"
          ]
        }
      ]
    }
  ],
  "metadata": {
    "kernelspec": {
      "display_name": "Python 3 (ipykernel)",
      "language": "python",
      "name": "python3"
    },
    "language_info": {
      "codemirror_mode": {
        "name": "ipython",
        "version": 3
      },
      "file_extension": ".py",
      "mimetype": "text/x-python",
      "name": "python",
      "nbconvert_exporter": "python",
      "pygments_lexer": "ipython3",
      "version": "3.7.11"
    },
    "colab": {
      "provenance": []
    }
  },
  "nbformat": 4,
  "nbformat_minor": 5
}