{
 "cells": [
  {
   "cell_type": "markdown",
   "id": "7516ea78",
   "metadata": {},
   "source": [
    "# Tenis Ace Starting"
   ]
  },
  {
   "cell_type": "markdown",
   "id": "d47b9d18",
   "metadata": {},
   "source": [
    "##### Overview\n",
    "This project contains a series of open-ended requirements which describe the project you’ll be building. There are many possible ways to correctly fulfill all of these requirements, and you should expect to use the internet, Codecademy, and other resources when you encounter a problem.\n",
    "\n",
    "#### Project Goals\n",
    "You will create a linear regression model that predicts the outcome for a tennis player based on their playing habits. By analyzing and modeling the [Association of Tennis Professionals (ATP)](https://en.wikipedia.org/wiki/Association_of_Tennis_Professionals) data, you will determine what it takes to be one of the best tennis players in the world."
   ]
  },
  {
   "cell_type": "markdown",
   "id": "5e4e517a",
   "metadata": {},
   "source": [
    "1. In order to complete this project, you should have completed the Linear Regression and Multiple Linear Regression lessons in the Machine Learning Course. This content is also covered in the Data Scientist Career Path."
   ]
  },
  {
   "cell_type": "code",
   "execution_count": 1,
   "id": "447d383f",
   "metadata": {},
   "outputs": [],
   "source": [
    "import pandas as pd\n",
    "import matplotlib.pyplot as plt\n",
    "from sklearn.model_selection import train_test_split\n",
    "from sklearn.linear_model import LinearRegression"
   ]
  },
  {
   "cell_type": "markdown",
   "id": "6c2299e4",
   "metadata": {},
   "source": [
    "__Project Requirements__\n",
    "\n",
    "2. “Game, Set, Match!”\n",
    "\n",
    "No three words are sweeter to hear as a tennis player than those, which indicate that a player has beaten their opponent. While you can head down to your nearest court and aim to overcome your challenger across the net without much practice, a league of professionals spends day and night, month after month practicing to be among the best in the world. Today you will put your linear regression knowledge to the test to better understand what it takes to be an all-star tennis player.\n",
    "\n",
    "Provided in __tennis_stats.csv__ is data from the men’s professional tennis league, which is called the [Association of Tennis Professionals (ATP)](https://en.wikipedia.org/wiki/Association_of_Tennis_Professionals). Data from the top 1500 ranked players in the ATP over the span of ``2009`` to ``2017`` are provided in file. The statistics recorded for each player in each year include service game (offensive) statistics, return game (defensive) statistics and outcomes. Load the csv into a DataFrame and investigate it to gain familiarity with the data.\n",
    "\n",
    "Open the hint for more information about each column of the dataset."
   ]
  },
  {
   "cell_type": "code",
   "execution_count": 2,
   "id": "cd667a85",
   "metadata": {},
   "outputs": [
    {
     "data": {
      "text/html": [
       "<div>\n",
       "<style scoped>\n",
       "    .dataframe tbody tr th:only-of-type {\n",
       "        vertical-align: middle;\n",
       "    }\n",
       "\n",
       "    .dataframe tbody tr th {\n",
       "        vertical-align: top;\n",
       "    }\n",
       "\n",
       "    .dataframe thead th {\n",
       "        text-align: right;\n",
       "    }\n",
       "</style>\n",
       "<table border=\"1\" class=\"dataframe\">\n",
       "  <thead>\n",
       "    <tr style=\"text-align: right;\">\n",
       "      <th></th>\n",
       "      <th>Player</th>\n",
       "      <th>Year</th>\n",
       "      <th>FirstServe</th>\n",
       "      <th>FirstServePointsWon</th>\n",
       "      <th>FirstServeReturnPointsWon</th>\n",
       "      <th>SecondServePointsWon</th>\n",
       "      <th>SecondServeReturnPointsWon</th>\n",
       "      <th>Aces</th>\n",
       "      <th>BreakPointsConverted</th>\n",
       "      <th>BreakPointsFaced</th>\n",
       "      <th>...</th>\n",
       "      <th>ReturnGamesWon</th>\n",
       "      <th>ReturnPointsWon</th>\n",
       "      <th>ServiceGamesPlayed</th>\n",
       "      <th>ServiceGamesWon</th>\n",
       "      <th>TotalPointsWon</th>\n",
       "      <th>TotalServicePointsWon</th>\n",
       "      <th>Wins</th>\n",
       "      <th>Losses</th>\n",
       "      <th>Winnings</th>\n",
       "      <th>Ranking</th>\n",
       "    </tr>\n",
       "  </thead>\n",
       "  <tbody>\n",
       "    <tr>\n",
       "      <th>0</th>\n",
       "      <td>Pedro Sousa</td>\n",
       "      <td>2016</td>\n",
       "      <td>0.88</td>\n",
       "      <td>0.50</td>\n",
       "      <td>0.38</td>\n",
       "      <td>0.50</td>\n",
       "      <td>0.39</td>\n",
       "      <td>0</td>\n",
       "      <td>0.14</td>\n",
       "      <td>7</td>\n",
       "      <td>...</td>\n",
       "      <td>0.11</td>\n",
       "      <td>0.38</td>\n",
       "      <td>8</td>\n",
       "      <td>0.50</td>\n",
       "      <td>0.43</td>\n",
       "      <td>0.50</td>\n",
       "      <td>1</td>\n",
       "      <td>2</td>\n",
       "      <td>39820</td>\n",
       "      <td>119</td>\n",
       "    </tr>\n",
       "    <tr>\n",
       "      <th>1</th>\n",
       "      <td>Roman Safiullin</td>\n",
       "      <td>2017</td>\n",
       "      <td>0.84</td>\n",
       "      <td>0.62</td>\n",
       "      <td>0.26</td>\n",
       "      <td>0.33</td>\n",
       "      <td>0.07</td>\n",
       "      <td>7</td>\n",
       "      <td>0.00</td>\n",
       "      <td>7</td>\n",
       "      <td>...</td>\n",
       "      <td>0.00</td>\n",
       "      <td>0.20</td>\n",
       "      <td>9</td>\n",
       "      <td>0.67</td>\n",
       "      <td>0.41</td>\n",
       "      <td>0.57</td>\n",
       "      <td>0</td>\n",
       "      <td>1</td>\n",
       "      <td>17334</td>\n",
       "      <td>381</td>\n",
       "    </tr>\n",
       "    <tr>\n",
       "      <th>2</th>\n",
       "      <td>Pedro Sousa</td>\n",
       "      <td>2017</td>\n",
       "      <td>0.83</td>\n",
       "      <td>0.60</td>\n",
       "      <td>0.28</td>\n",
       "      <td>0.53</td>\n",
       "      <td>0.44</td>\n",
       "      <td>2</td>\n",
       "      <td>0.38</td>\n",
       "      <td>10</td>\n",
       "      <td>...</td>\n",
       "      <td>0.16</td>\n",
       "      <td>0.34</td>\n",
       "      <td>17</td>\n",
       "      <td>0.65</td>\n",
       "      <td>0.45</td>\n",
       "      <td>0.59</td>\n",
       "      <td>4</td>\n",
       "      <td>1</td>\n",
       "      <td>109827</td>\n",
       "      <td>119</td>\n",
       "    </tr>\n",
       "    <tr>\n",
       "      <th>3</th>\n",
       "      <td>Rogerio Dutra Silva</td>\n",
       "      <td>2010</td>\n",
       "      <td>0.83</td>\n",
       "      <td>0.64</td>\n",
       "      <td>0.34</td>\n",
       "      <td>0.59</td>\n",
       "      <td>0.33</td>\n",
       "      <td>2</td>\n",
       "      <td>0.33</td>\n",
       "      <td>5</td>\n",
       "      <td>...</td>\n",
       "      <td>0.14</td>\n",
       "      <td>0.34</td>\n",
       "      <td>15</td>\n",
       "      <td>0.80</td>\n",
       "      <td>0.49</td>\n",
       "      <td>0.63</td>\n",
       "      <td>0</td>\n",
       "      <td>0</td>\n",
       "      <td>9761</td>\n",
       "      <td>125</td>\n",
       "    </tr>\n",
       "    <tr>\n",
       "      <th>4</th>\n",
       "      <td>Daniel Gimeno-Traver</td>\n",
       "      <td>2017</td>\n",
       "      <td>0.81</td>\n",
       "      <td>0.54</td>\n",
       "      <td>0.00</td>\n",
       "      <td>0.33</td>\n",
       "      <td>0.33</td>\n",
       "      <td>1</td>\n",
       "      <td>0.00</td>\n",
       "      <td>2</td>\n",
       "      <td>...</td>\n",
       "      <td>0.00</td>\n",
       "      <td>0.20</td>\n",
       "      <td>2</td>\n",
       "      <td>0.50</td>\n",
       "      <td>0.35</td>\n",
       "      <td>0.50</td>\n",
       "      <td>0</td>\n",
       "      <td>1</td>\n",
       "      <td>32879</td>\n",
       "      <td>272</td>\n",
       "    </tr>\n",
       "  </tbody>\n",
       "</table>\n",
       "<p>5 rows × 24 columns</p>\n",
       "</div>"
      ],
      "text/plain": [
       "                 Player  Year  FirstServe  FirstServePointsWon  \\\n",
       "0           Pedro Sousa  2016        0.88                 0.50   \n",
       "1       Roman Safiullin  2017        0.84                 0.62   \n",
       "2           Pedro Sousa  2017        0.83                 0.60   \n",
       "3   Rogerio Dutra Silva  2010        0.83                 0.64   \n",
       "4  Daniel Gimeno-Traver  2017        0.81                 0.54   \n",
       "\n",
       "   FirstServeReturnPointsWon  SecondServePointsWon  \\\n",
       "0                       0.38                  0.50   \n",
       "1                       0.26                  0.33   \n",
       "2                       0.28                  0.53   \n",
       "3                       0.34                  0.59   \n",
       "4                       0.00                  0.33   \n",
       "\n",
       "   SecondServeReturnPointsWon  Aces  BreakPointsConverted  BreakPointsFaced  \\\n",
       "0                        0.39     0                  0.14                 7   \n",
       "1                        0.07     7                  0.00                 7   \n",
       "2                        0.44     2                  0.38                10   \n",
       "3                        0.33     2                  0.33                 5   \n",
       "4                        0.33     1                  0.00                 2   \n",
       "\n",
       "   ...  ReturnGamesWon  ReturnPointsWon  ServiceGamesPlayed  ServiceGamesWon  \\\n",
       "0  ...            0.11             0.38                   8             0.50   \n",
       "1  ...            0.00             0.20                   9             0.67   \n",
       "2  ...            0.16             0.34                  17             0.65   \n",
       "3  ...            0.14             0.34                  15             0.80   \n",
       "4  ...            0.00             0.20                   2             0.50   \n",
       "\n",
       "   TotalPointsWon  TotalServicePointsWon  Wins  Losses  Winnings  Ranking  \n",
       "0            0.43                   0.50     1       2     39820      119  \n",
       "1            0.41                   0.57     0       1     17334      381  \n",
       "2            0.45                   0.59     4       1    109827      119  \n",
       "3            0.49                   0.63     0       0      9761      125  \n",
       "4            0.35                   0.50     0       1     32879      272  \n",
       "\n",
       "[5 rows x 24 columns]"
      ]
     },
     "execution_count": 2,
     "metadata": {},
     "output_type": "execute_result"
    }
   ],
   "source": [
    "tennis = pd.read_csv('tennis_stats.csv')\n",
    "tennis.head()"
   ]
  },
  {
   "cell_type": "markdown",
   "id": "bfb48e07",
   "metadata": {},
   "source": [
    "3. Perform exploratory analysis on the data by plotting different features against the different outcomes. What relationships do you find between the features and outcomes? Do any of the features seem to predict the outcomes?"
   ]
  },
  {
   "cell_type": "code",
   "execution_count": 3,
   "id": "6028e805",
   "metadata": {},
   "outputs": [
    {
     "data": {
      "text/html": [
       "<div>\n",
       "<style scoped>\n",
       "    .dataframe tbody tr th:only-of-type {\n",
       "        vertical-align: middle;\n",
       "    }\n",
       "\n",
       "    .dataframe tbody tr th {\n",
       "        vertical-align: top;\n",
       "    }\n",
       "\n",
       "    .dataframe thead th {\n",
       "        text-align: right;\n",
       "    }\n",
       "</style>\n",
       "<table border=\"1\" class=\"dataframe\">\n",
       "  <thead>\n",
       "    <tr style=\"text-align: right;\">\n",
       "      <th></th>\n",
       "      <th>count</th>\n",
       "      <th>mean</th>\n",
       "      <th>std</th>\n",
       "      <th>min</th>\n",
       "      <th>25%</th>\n",
       "      <th>50%</th>\n",
       "      <th>75%</th>\n",
       "      <th>max</th>\n",
       "    </tr>\n",
       "  </thead>\n",
       "  <tbody>\n",
       "    <tr>\n",
       "      <th>Year</th>\n",
       "      <td>1721.0</td>\n",
       "      <td>2013.646717</td>\n",
       "      <td>2.488018</td>\n",
       "      <td>2009.00</td>\n",
       "      <td>2012.00</td>\n",
       "      <td>2014.00</td>\n",
       "      <td>2016.00</td>\n",
       "      <td>2017.00</td>\n",
       "    </tr>\n",
       "    <tr>\n",
       "      <th>FirstServe</th>\n",
       "      <td>1721.0</td>\n",
       "      <td>0.598053</td>\n",
       "      <td>0.054533</td>\n",
       "      <td>0.36</td>\n",
       "      <td>0.57</td>\n",
       "      <td>0.60</td>\n",
       "      <td>0.63</td>\n",
       "      <td>0.88</td>\n",
       "    </tr>\n",
       "    <tr>\n",
       "      <th>FirstServePointsWon</th>\n",
       "      <td>1721.0</td>\n",
       "      <td>0.680738</td>\n",
       "      <td>0.070422</td>\n",
       "      <td>0.27</td>\n",
       "      <td>0.65</td>\n",
       "      <td>0.69</td>\n",
       "      <td>0.72</td>\n",
       "      <td>0.89</td>\n",
       "    </tr>\n",
       "    <tr>\n",
       "      <th>FirstServeReturnPointsWon</th>\n",
       "      <td>1721.0</td>\n",
       "      <td>0.261673</td>\n",
       "      <td>0.056639</td>\n",
       "      <td>0.00</td>\n",
       "      <td>0.24</td>\n",
       "      <td>0.27</td>\n",
       "      <td>0.29</td>\n",
       "      <td>0.48</td>\n",
       "    </tr>\n",
       "    <tr>\n",
       "      <th>SecondServePointsWon</th>\n",
       "      <td>1721.0</td>\n",
       "      <td>0.479733</td>\n",
       "      <td>0.066902</td>\n",
       "      <td>0.06</td>\n",
       "      <td>0.46</td>\n",
       "      <td>0.49</td>\n",
       "      <td>0.52</td>\n",
       "      <td>0.92</td>\n",
       "    </tr>\n",
       "    <tr>\n",
       "      <th>SecondServeReturnPointsWon</th>\n",
       "      <td>1721.0</td>\n",
       "      <td>0.466432</td>\n",
       "      <td>0.068447</td>\n",
       "      <td>0.00</td>\n",
       "      <td>0.44</td>\n",
       "      <td>0.48</td>\n",
       "      <td>0.50</td>\n",
       "      <td>0.75</td>\n",
       "    </tr>\n",
       "    <tr>\n",
       "      <th>Aces</th>\n",
       "      <td>1721.0</td>\n",
       "      <td>97.105171</td>\n",
       "      <td>137.966077</td>\n",
       "      <td>0.00</td>\n",
       "      <td>7.00</td>\n",
       "      <td>34.00</td>\n",
       "      <td>140.00</td>\n",
       "      <td>1185.00</td>\n",
       "    </tr>\n",
       "    <tr>\n",
       "      <th>BreakPointsConverted</th>\n",
       "      <td>1721.0</td>\n",
       "      <td>0.369407</td>\n",
       "      <td>0.162987</td>\n",
       "      <td>0.00</td>\n",
       "      <td>0.32</td>\n",
       "      <td>0.38</td>\n",
       "      <td>0.43</td>\n",
       "      <td>1.00</td>\n",
       "    </tr>\n",
       "    <tr>\n",
       "      <th>BreakPointsFaced</th>\n",
       "      <td>1721.0</td>\n",
       "      <td>112.003486</td>\n",
       "      <td>119.247651</td>\n",
       "      <td>1.00</td>\n",
       "      <td>15.00</td>\n",
       "      <td>55.00</td>\n",
       "      <td>201.00</td>\n",
       "      <td>507.00</td>\n",
       "    </tr>\n",
       "    <tr>\n",
       "      <th>BreakPointsOpportunities</th>\n",
       "      <td>1721.0</td>\n",
       "      <td>102.918071</td>\n",
       "      <td>122.761670</td>\n",
       "      <td>0.00</td>\n",
       "      <td>9.00</td>\n",
       "      <td>41.00</td>\n",
       "      <td>172.00</td>\n",
       "      <td>573.00</td>\n",
       "    </tr>\n",
       "    <tr>\n",
       "      <th>BreakPointsSaved</th>\n",
       "      <td>1721.0</td>\n",
       "      <td>0.565386</td>\n",
       "      <td>0.119426</td>\n",
       "      <td>0.00</td>\n",
       "      <td>0.52</td>\n",
       "      <td>0.59</td>\n",
       "      <td>0.63</td>\n",
       "      <td>1.00</td>\n",
       "    </tr>\n",
       "    <tr>\n",
       "      <th>DoubleFaults</th>\n",
       "      <td>1721.0</td>\n",
       "      <td>49.112144</td>\n",
       "      <td>56.630264</td>\n",
       "      <td>0.00</td>\n",
       "      <td>6.00</td>\n",
       "      <td>23.00</td>\n",
       "      <td>80.00</td>\n",
       "      <td>309.00</td>\n",
       "    </tr>\n",
       "    <tr>\n",
       "      <th>ReturnGamesPlayed</th>\n",
       "      <td>1721.0</td>\n",
       "      <td>198.307960</td>\n",
       "      <td>221.296070</td>\n",
       "      <td>0.00</td>\n",
       "      <td>22.00</td>\n",
       "      <td>86.00</td>\n",
       "      <td>349.00</td>\n",
       "      <td>910.00</td>\n",
       "    </tr>\n",
       "    <tr>\n",
       "      <th>ReturnGamesWon</th>\n",
       "      <td>1721.0</td>\n",
       "      <td>0.173823</td>\n",
       "      <td>0.080880</td>\n",
       "      <td>0.00</td>\n",
       "      <td>0.13</td>\n",
       "      <td>0.18</td>\n",
       "      <td>0.22</td>\n",
       "      <td>0.56</td>\n",
       "    </tr>\n",
       "    <tr>\n",
       "      <th>ReturnPointsWon</th>\n",
       "      <td>1721.0</td>\n",
       "      <td>0.342208</td>\n",
       "      <td>0.049369</td>\n",
       "      <td>0.00</td>\n",
       "      <td>0.32</td>\n",
       "      <td>0.35</td>\n",
       "      <td>0.37</td>\n",
       "      <td>0.51</td>\n",
       "    </tr>\n",
       "    <tr>\n",
       "      <th>ServiceGamesPlayed</th>\n",
       "      <td>1721.0</td>\n",
       "      <td>197.650203</td>\n",
       "      <td>221.208703</td>\n",
       "      <td>0.00</td>\n",
       "      <td>22.00</td>\n",
       "      <td>86.00</td>\n",
       "      <td>348.00</td>\n",
       "      <td>916.00</td>\n",
       "    </tr>\n",
       "    <tr>\n",
       "      <th>ServiceGamesWon</th>\n",
       "      <td>1721.0</td>\n",
       "      <td>0.715590</td>\n",
       "      <td>0.123287</td>\n",
       "      <td>0.00</td>\n",
       "      <td>0.67</td>\n",
       "      <td>0.75</td>\n",
       "      <td>0.79</td>\n",
       "      <td>1.00</td>\n",
       "    </tr>\n",
       "    <tr>\n",
       "      <th>TotalPointsWon</th>\n",
       "      <td>1721.0</td>\n",
       "      <td>0.473155</td>\n",
       "      <td>0.037139</td>\n",
       "      <td>0.22</td>\n",
       "      <td>0.46</td>\n",
       "      <td>0.48</td>\n",
       "      <td>0.50</td>\n",
       "      <td>0.82</td>\n",
       "    </tr>\n",
       "    <tr>\n",
       "      <th>TotalServicePointsWon</th>\n",
       "      <td>1721.0</td>\n",
       "      <td>0.599245</td>\n",
       "      <td>0.057718</td>\n",
       "      <td>0.25</td>\n",
       "      <td>0.57</td>\n",
       "      <td>0.61</td>\n",
       "      <td>0.63</td>\n",
       "      <td>0.82</td>\n",
       "    </tr>\n",
       "    <tr>\n",
       "      <th>Wins</th>\n",
       "      <td>1721.0</td>\n",
       "      <td>7.876816</td>\n",
       "      <td>10.183716</td>\n",
       "      <td>0.00</td>\n",
       "      <td>0.00</td>\n",
       "      <td>3.00</td>\n",
       "      <td>13.00</td>\n",
       "      <td>48.00</td>\n",
       "    </tr>\n",
       "    <tr>\n",
       "      <th>Losses</th>\n",
       "      <td>1721.0</td>\n",
       "      <td>9.278908</td>\n",
       "      <td>8.996450</td>\n",
       "      <td>0.00</td>\n",
       "      <td>2.00</td>\n",
       "      <td>5.00</td>\n",
       "      <td>17.00</td>\n",
       "      <td>36.00</td>\n",
       "    </tr>\n",
       "    <tr>\n",
       "      <th>Winnings</th>\n",
       "      <td>1721.0</td>\n",
       "      <td>234492.757118</td>\n",
       "      <td>253053.693697</td>\n",
       "      <td>108.00</td>\n",
       "      <td>49311.00</td>\n",
       "      <td>125212.00</td>\n",
       "      <td>350075.00</td>\n",
       "      <td>1074562.00</td>\n",
       "    </tr>\n",
       "    <tr>\n",
       "      <th>Ranking</th>\n",
       "      <td>1721.0</td>\n",
       "      <td>269.610691</td>\n",
       "      <td>277.341947</td>\n",
       "      <td>3.00</td>\n",
       "      <td>83.00</td>\n",
       "      <td>166.00</td>\n",
       "      <td>333.00</td>\n",
       "      <td>1443.00</td>\n",
       "    </tr>\n",
       "  </tbody>\n",
       "</table>\n",
       "</div>"
      ],
      "text/plain": [
       "                             count           mean            std      min  \\\n",
       "Year                        1721.0    2013.646717       2.488018  2009.00   \n",
       "FirstServe                  1721.0       0.598053       0.054533     0.36   \n",
       "FirstServePointsWon         1721.0       0.680738       0.070422     0.27   \n",
       "FirstServeReturnPointsWon   1721.0       0.261673       0.056639     0.00   \n",
       "SecondServePointsWon        1721.0       0.479733       0.066902     0.06   \n",
       "SecondServeReturnPointsWon  1721.0       0.466432       0.068447     0.00   \n",
       "Aces                        1721.0      97.105171     137.966077     0.00   \n",
       "BreakPointsConverted        1721.0       0.369407       0.162987     0.00   \n",
       "BreakPointsFaced            1721.0     112.003486     119.247651     1.00   \n",
       "BreakPointsOpportunities    1721.0     102.918071     122.761670     0.00   \n",
       "BreakPointsSaved            1721.0       0.565386       0.119426     0.00   \n",
       "DoubleFaults                1721.0      49.112144      56.630264     0.00   \n",
       "ReturnGamesPlayed           1721.0     198.307960     221.296070     0.00   \n",
       "ReturnGamesWon              1721.0       0.173823       0.080880     0.00   \n",
       "ReturnPointsWon             1721.0       0.342208       0.049369     0.00   \n",
       "ServiceGamesPlayed          1721.0     197.650203     221.208703     0.00   \n",
       "ServiceGamesWon             1721.0       0.715590       0.123287     0.00   \n",
       "TotalPointsWon              1721.0       0.473155       0.037139     0.22   \n",
       "TotalServicePointsWon       1721.0       0.599245       0.057718     0.25   \n",
       "Wins                        1721.0       7.876816      10.183716     0.00   \n",
       "Losses                      1721.0       9.278908       8.996450     0.00   \n",
       "Winnings                    1721.0  234492.757118  253053.693697   108.00   \n",
       "Ranking                     1721.0     269.610691     277.341947     3.00   \n",
       "\n",
       "                                 25%        50%        75%         max  \n",
       "Year                         2012.00    2014.00    2016.00     2017.00  \n",
       "FirstServe                      0.57       0.60       0.63        0.88  \n",
       "FirstServePointsWon             0.65       0.69       0.72        0.89  \n",
       "FirstServeReturnPointsWon       0.24       0.27       0.29        0.48  \n",
       "SecondServePointsWon            0.46       0.49       0.52        0.92  \n",
       "SecondServeReturnPointsWon      0.44       0.48       0.50        0.75  \n",
       "Aces                            7.00      34.00     140.00     1185.00  \n",
       "BreakPointsConverted            0.32       0.38       0.43        1.00  \n",
       "BreakPointsFaced               15.00      55.00     201.00      507.00  \n",
       "BreakPointsOpportunities        9.00      41.00     172.00      573.00  \n",
       "BreakPointsSaved                0.52       0.59       0.63        1.00  \n",
       "DoubleFaults                    6.00      23.00      80.00      309.00  \n",
       "ReturnGamesPlayed              22.00      86.00     349.00      910.00  \n",
       "ReturnGamesWon                  0.13       0.18       0.22        0.56  \n",
       "ReturnPointsWon                 0.32       0.35       0.37        0.51  \n",
       "ServiceGamesPlayed             22.00      86.00     348.00      916.00  \n",
       "ServiceGamesWon                 0.67       0.75       0.79        1.00  \n",
       "TotalPointsWon                  0.46       0.48       0.50        0.82  \n",
       "TotalServicePointsWon           0.57       0.61       0.63        0.82  \n",
       "Wins                            0.00       3.00      13.00       48.00  \n",
       "Losses                          2.00       5.00      17.00       36.00  \n",
       "Winnings                    49311.00  125212.00  350075.00  1074562.00  \n",
       "Ranking                        83.00     166.00     333.00     1443.00  "
      ]
     },
     "execution_count": 3,
     "metadata": {},
     "output_type": "execute_result"
    }
   ],
   "source": [
    "tennis.describe().T"
   ]
  },
  {
   "cell_type": "code",
   "execution_count": 4,
   "id": "0f7c751f",
   "metadata": {},
   "outputs": [
    {
     "data": {
      "image/png": "[encoded data removed]",
      "text/plain": [
       "<Figure size 640x480 with 1 Axes>"
      ]
     },
     "metadata": {},
     "output_type": "display_data"
    }
   ],
   "source": [
    "plt.hist(tennis['FirstServe'])\n",
    "plt.show()"
   ]
  },
  {
   "cell_type": "code",
   "execution_count": 5,
   "id": "f6fecc79",
   "metadata": {},
   "outputs": [
    {
     "data": {
      "text/plain": [
       "Year\n",
       "2017    261\n",
       "2016    250\n",
       "2015    227\n",
       "2014    210\n",
       "2013    197\n",
       "2012    167\n",
       "2011    159\n",
       "2010    140\n",
       "2009    110\n",
       "Name: count, dtype: int64"
      ]
     },
     "execution_count": 5,
     "metadata": {},
     "output_type": "execute_result"
    }
   ],
   "source": [
    "tennis['Year'].value_counts()"
   ]
  },
  {
   "cell_type": "code",
   "execution_count": 7,
   "id": "113f1a8d",
   "metadata": {},
   "outputs": [
    {
     "data": {
      "image/png": "[encoded data removed]",
      "text/plain": [
       "<Figure size 640x480 with 1 Axes>"
      ]
     },
     "metadata": {},
     "output_type": "display_data"
    }
   ],
   "source": [
    "plt.scatter(tennis['BreakPointsOpportunities'], tennis['Winnings'])\n",
    "plt.show()"
   ]
  },
  {
   "cell_type": "code",
   "execution_count": 8,
   "id": "a356f078",
   "metadata": {},
   "outputs": [
    {
     "data": {
      "image/png": "[encoded data removed]",
      "text/plain": [
       "<Figure size 640x480 with 1 Axes>"
      ]
     },
     "metadata": {},
     "output_type": "display_data"
    }
   ],
   "source": [
    "plt.scatter(tennis['TotalPointsWon'], tennis['TotalServicePointsWon'])\n",
    "plt.show()"
   ]
  },
  {
   "cell_type": "markdown",
   "id": "6100625d",
   "metadata": {},
   "source": [
    "4. Use one feature from the dataset to build a single feature linear regression model on the data. Your model, at this point, should use only one feature and predict one of the outcome columns. Before training the model, split your data into training and test datasets so that you can evaluate your model on the test set. How does your model perform? Plot your model’s predictions on the test set against the actual outcome variable to visualize the performance."
   ]
  },
  {
   "cell_type": "code",
   "execution_count": 9,
   "id": "4dd55291",
   "metadata": {},
   "outputs": [],
   "source": [
    "X_train, X_test, y_train, y_test = train_test_split(tennis[['BreakPointsOpportunities']], tennis[['Winnings']], test_size=0.2, random_state=10)"
   ]
  },
  {
   "cell_type": "code",
   "execution_count": 13,
   "id": "c74530ea",
   "metadata": {},
   "outputs": [
    {
     "name": "stdout",
     "output_type": "stream",
     "text": [
      "Score model: 0.7769621373882858\n"
     ]
    }
   ],
   "source": [
    "model = LinearRegression()\n",
    "model.fit(X_train, y_train)\n",
    "print(f'Score model: {model.score(X_test, y_test)}')"
   ]
  },
  {
   "cell_type": "code",
   "execution_count": 14,
   "id": "31318924",
   "metadata": {},
   "outputs": [
    {
     "data": {
      "image/png": "[encoded data removed]",
      "text/plain": [
       "<Figure size 640x480 with 1 Axes>"
      ]
     },
     "metadata": {},
     "output_type": "display_data"
    }
   ],
   "source": [
    "y_pred = model.predict(X_test)\n",
    "plt.scatter(X_train, y_train)\n",
    "plt.plot(X_test,y_pred, alpha=0.9, color='red')\n",
    "plt.show()"
   ]
  },
  {
   "cell_type": "markdown",
   "id": "110d2c75",
   "metadata": {},
   "source": [
    "5. Create a few more linear regression models that use one feature to predict one of the outcomes. Which model that you create is the best?"
   ]
  },
  {
   "cell_type": "code",
   "execution_count": 17,
   "id": "c5563f68",
   "metadata": {},
   "outputs": [
    {
     "name": "stdout",
     "output_type": "stream",
     "text": [
      "Score model: 0.5514040754763163\n"
     ]
    },
    {
     "data": {
      "image/png": "[encoded data removed]",
      "text/plain": [
       "<Figure size 640x480 with 1 Axes>"
      ]
     },
     "metadata": {},
     "output_type": "display_data"
    }
   ],
   "source": [
    "X_train, X_test, y_train, y_test = train_test_split(tennis[['TotalPointsWon']], tennis[['TotalServicePointsWon']], test_size=0.2, random_state=10)\n",
    "\n",
    "model = LinearRegression()\n",
    "model.fit(X_train, y_train)\n",
    "print(f'Score model: {model.score(X_test, y_test)}')\n",
    "\n",
    "y_pred = model.predict(X_test)\n",
    "plt.scatter(X_train, y_train)\n",
    "plt.plot(X_test,y_pred, alpha=0.9, color='red')\n",
    "plt.show()"
   ]
  },
  {
   "cell_type": "markdown",
   "id": "6dfa7a5f",
   "metadata": {},
   "source": [
    "6. Create a few linear regression models that use two features to predict yearly earnings. Which set of two features results in the best model?"
   ]
  },
  {
   "cell_type": "code",
   "execution_count": 20,
   "id": "db6afbcc",
   "metadata": {},
   "outputs": [
    {
     "name": "stdout",
     "output_type": "stream",
     "text": [
      "Score model 1: 0.7776269977659938\n",
      "Score model 2: 0.6064086577393311\n",
      "Score model 3: 0.16620937347012865\n",
      "Score model 4: 0.1100012220920692\n"
     ]
    }
   ],
   "source": [
    "X_train, X_test, y_train, y_test = train_test_split(tennis[['TotalPointsWon', 'BreakPointsOpportunities']], tennis[['Winnings']], test_size=0.2, random_state=10)\n",
    "\n",
    "model = LinearRegression()\n",
    "model.fit(X_train, y_train)\n",
    "print(f'Score model 1: {model.score(X_test, y_test)}')\n",
    "\n",
    "\n",
    "X_train, X_test, y_train, y_test = train_test_split(tennis[['TotalPointsWon', 'Aces']], tennis[['Winnings']], test_size=0.2, random_state=10)\n",
    "\n",
    "model = LinearRegression()\n",
    "model.fit(X_train, y_train)\n",
    "print(f'Score model 2: {model.score(X_test, y_test)}')\n",
    "\n",
    "\n",
    "X_train, X_test, y_train, y_test = train_test_split(tennis[['BreakPointsConverted', 'FirstServePointsWon']], tennis[['Winnings']], test_size=0.2, random_state=10)\n",
    "\n",
    "model = LinearRegression()\n",
    "model.fit(X_train, y_train)\n",
    "print(f'Score model 3: {model.score(X_test, y_test)}')\n",
    "\n",
    "X_train, X_test, y_train, y_test = train_test_split(tennis[['SecondServePointsWon', 'SecondServeReturnPointsWon']], tennis[['Winnings']], test_size=0.2, random_state=10)\n",
    "\n",
    "model = LinearRegression()\n",
    "model.fit(X_train, y_train)\n",
    "print(f'Score model 4: {model.score(X_test, y_test)}')"
   ]
  },
  {
   "cell_type": "markdown",
   "id": "9c46891c",
   "metadata": {},
   "source": [
    "7. Create a few linear regression models that use multiple features to predict yearly earnings. Which set of features results in the best model?\n",
    "\n",
    "Head to the Codecademy forums and share your set of features that resulted in the highest test score for predicting your outcome. What features are most important for being a successful tennis player?"
   ]
  },
  {
   "cell_type": "code",
   "execution_count": 21,
   "id": "84a4a4ad",
   "metadata": {},
   "outputs": [
    {
     "name": "stdout",
     "output_type": "stream",
     "text": [
      "Score model: 0.8071974392805101\n"
     ]
    }
   ],
   "source": [
    "X_train, X_test, y_train, y_test = train_test_split(tennis[['FirstServe','FirstServePointsWon','FirstServeReturnPointsWon',\n",
    "'SecondServePointsWon','SecondServeReturnPointsWon','Aces',\n",
    "'BreakPointsConverted','BreakPointsFaced','BreakPointsOpportunities',\n",
    "'BreakPointsSaved','DoubleFaults','ReturnGamesPlayed','ReturnGamesWon',\n",
    "'ReturnPointsWon','ServiceGamesPlayed','ServiceGamesWon','TotalPointsWon',\n",
    "'TotalServicePointsWon']], tennis[['Winnings']], test_size=0.2, random_state=10)\n",
    "\n",
    "model = LinearRegression()\n",
    "model.fit(X_train, y_train)\n",
    "print(f'Score model: {model.score(X_test, y_test)}')"
   ]
  },
  {
   "cell_type": "markdown",
   "id": "e425fdb5",
   "metadata": {},
   "source": [
    "8. Great work! Visit our forums to compare your project to our sample solution code. You can also learn how to host your own solution on GitHub so you can share it with other learners! Your solution might look different from ours, and that’s okay! There are multiple ways to solve these projects, and you’ll learn more by seeing others’ code."
   ]
  }
 ],
 "metadata": {
  "kernelspec": {
   "display_name": "Python 3",
   "language": "python",
   "name": "python3"
  },
  "language_info": {
   "codemirror_mode": {
    "name": "ipython",
    "version": 3
   },
   "file_extension": ".py",
   "mimetype": "text/x-python",
   "name": "python",
   "nbconvert_exporter": "python",
   "pygments_lexer": "ipython3",
   "version": "3.11.4"
  }
 },
 "nbformat": 4,
 "nbformat_minor": 5
}
